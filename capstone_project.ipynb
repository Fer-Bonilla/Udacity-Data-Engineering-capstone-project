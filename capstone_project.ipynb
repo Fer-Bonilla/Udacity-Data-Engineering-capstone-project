{
 "cells": [
  {
   "cell_type": "markdown",
   "metadata": {
    "editable": true
   },
   "source": [
    "# BITCOIN AND ETHEREUM FORECASTING\n",
    "\n",
    "### Data Engineering Capstone Project\n",
    "\n",
    "#### Project Summary\n",
    "\n",
    "This project defines the pipeline to load historical data of Bitcoin and Ethereum blockchains and create a Data Lake. The process includes data formatting, cleaning, and transformation. \n",
    "\n",
    "The project follows the follow steps:\n",
    "\n",
    "* Step 1: Scope the Project and Gather Data\n",
    "* Step 2: Explore and Assess the Data\n",
    "* Step 3: Define the Data Model\n",
    "* Step 4: Run ETL to Model the Data\n",
    "* Step 5: Complete Project Write Up"
   ]
  },
  {
   "cell_type": "code",
   "execution_count": 22,
   "metadata": {
    "editable": true
   },
   "outputs": [],
   "source": [
    "# Import required libraries\n",
    "import pandas as pd\n",
    "import re\n",
    "import boto3\n",
    "import zipfile\n",
    "from pyspark.sql import SparkSession\n",
    "import os\n",
    "import glob\n",
    "import configparser\n",
    "from datetime import datetime, timedelta, date\n",
    "from pyspark.sql import types as t\n",
    "from pyspark.sql.functions import udf, col, monotonically_increasing_id, to_date, to_timestamp, isnan, when, count\n",
    "from pyspark.sql.functions import year, month, dayofmonth, hour, weekofyear, minute\n",
    "\n",
    "import matplotlib.pyplot as plt\n",
    "import seaborn as sns"
   ]
  },
  {
   "cell_type": "markdown",
   "metadata": {
    "editable": true
   },
   "source": [
    "### Configure goblal variables"
   ]
  },
  {
   "cell_type": "code",
   "execution_count": 2,
   "metadata": {
    "editable": true
   },
   "outputs": [],
   "source": [
    "# Configure java an hadoop global variables\n",
    "os.environ[\"JAVA_HOME\"] = \"/usr/lib/jvm/java-8-openjdk-amd64\"\n",
    "os.environ[\"PATH\"] = \"/opt/conda/bin:/opt/spark-2.4.3-bin-hadoop2.7/bin:/opt/conda/bin:/usr/local/sbin:/usr/local/bin:/usr/sbin:/usr/bin:/sbin:/bin:/usr/lib/jvm/java-8-openjdk-amd64/bin\"\n",
    "os.environ[\"SPARK_HOME\"] = \"/opt/spark-2.4.3-bin-hadoop2.7\"\n",
    "os.environ[\"HADOOP_HOME\"] = \"/opt/spark-2.4.3-bin-hadoop2.7\""
   ]
  },
  {
   "cell_type": "code",
   "execution_count": 3,
   "metadata": {
    "editable": true
   },
   "outputs": [],
   "source": [
    "# Read configiguration file\n",
    "config = configparser.ConfigParser()\n",
    "config.read_file(open('dl.cfg'))\n",
    "\n",
    "os.environ[\"AWS_ACCESS_KEY_ID\"]= config['AWS']['AWS_ACCESS_KEY_ID']\n",
    "os.environ[\"AWS_SECRET_ACCESS_KEY\"]= config['AWS']['AWS_SECRET_ACCESS_KEY']\n",
    "\n",
    "# NOTE: Use these if using AWS S3 as a storage\n",
    "INPUT_DATA_AWS                = config['AWS']['INPUT_DATA_AWS']\n",
    "OUTPUT_DATA_AWS               = config['AWS']['OUTPUT_DATA_AWS']\n",
    "\n",
    "# NOTE: Use these if using local storage\n",
    "INPUT_DATA_LOCAL              = config['LOCAL']['INPUT_DATA_LOCAL']\n",
    "OUTPUT_DATA_LOCAL             = config['LOCAL']['OUTPUT_DATA_LOCAL']\n",
    "\n",
    "# Common configuration parameters\n",
    "DATA_LOCATION                 = config['COMMON']['DATA_LOCATION']\n",
    "DATA_STORAGE                  = config['COMMON']['DATA_STORAGE']\n",
    "INPUT_DATA_BTC_DIRECTORY      = config['COMMON']['INPUT_DATA_BTC_DIRECTORY']\n",
    "INPUT_DATA_BTC_ZIP_FILENAME   = config['COMMON']['INPUT_DATA_BTC_ZIP_FILENAME']\n",
    "INPUT_DATA_BTC_FILENAME       = config['COMMON']['INPUT_DATA_BTC_FILENAME']\n",
    "INPUT_DATA_ETH_DIRECTORY      = config['COMMON']['INPUT_DATA_ETH_DIRECTORY']\n",
    "INPUT_DATA_ETH_ZIP_FILENAME   = config['COMMON']['INPUT_DATA_ETH_ZIP_FILENAME']\n",
    "INPUT_DATA_ETH_FILENAME       = config['COMMON']['INPUT_DATA_ETH_FILENAME']\n",
    "OUTPUT_DATA_BTC_FILENAME      = config['COMMON']['OUTPUT_DATA_BTC_FILENAME']\n",
    "OUTPUT_DATA_ETH_FILENAME      = config['COMMON']['OUTPUT_DATA_ETH_FILENAME']\n",
    "OUTPUT_BTC_TABLE_FILENAME     = config['COMMON']['OUTPUT_BTC_TABLE_FILENAME']\n",
    "OUTPUT_ETH_TABLE_FILENAME     = config['COMMON']['OUTPUT_ETH_TABLE_FILENAME']\n",
    "OUTPUT_CRYPTO_TABLE_FILENAME  = config['COMMON']['OUTPUT_CRYPTO_TABLE_FILENAME']"
   ]
  },
  {
   "cell_type": "code",
   "execution_count": 4,
   "metadata": {
    "editable": true
   },
   "outputs": [],
   "source": [
    "# Set global configuration variables\n",
    "if DATA_LOCATION == \"local\":\n",
    "    input_data          = INPUT_DATA_LOCAL\n",
    "    output_data         = OUTPUT_DATA_LOCAL\n",
    "\n",
    "elif DATA_LOCATION == \"aws\":\n",
    "    input_data          = INPUT_DATA_AWS\n",
    "    output_data         = OUTPUT_DATA_AWS\n",
    "    \n",
    "elif DATA_STORAGE == \"parquet\":\n",
    "    data_storage        = DATA_STORAGE\n",
    "    \n",
    "# load variables for BTC data\n",
    "btc_data_directory      = INPUT_DATA_BTC_DIRECTORY\n",
    "btc_zip_filename        = INPUT_DATA_BTC_ZIP_FILENAME    \n",
    "btc_filename            = INPUT_DATA_BTC_FILENAME\n",
    "btc_table_filename      = OUTPUT_BTC_TABLE_FILENAME\n",
    "\n",
    "# load variables for ETH data\n",
    "eth_data_directory      = INPUT_DATA_ETH_DIRECTORY\n",
    "eth_zip_filename        = INPUT_DATA_ETH_ZIP_FILENAME    \n",
    "eth_filename            = INPUT_DATA_ETH_FILENAME\n",
    "eth_table_filename      = OUTPUT_ETH_TABLE_FILENAME\n",
    "\n",
    "# general variables\n",
    "crypto_timeseries_table = OUTPUT_CRYPTO_TABLE_FILENAME"
   ]
  },
  {
   "cell_type": "markdown",
   "metadata": {
    "editable": true
   },
   "source": [
    "#### Unzip data. RUN ONLY if files are compressed. ONLY WORKS FOR LOCAL"
   ]
  },
  {
   "cell_type": "code",
   "execution_count": null,
   "metadata": {
    "editable": true
   },
   "outputs": [],
   "source": [
    "# Create btc_data directory\n",
    "!mkdir btc_data_directory"
   ]
  },
  {
   "cell_type": "code",
   "execution_count": null,
   "metadata": {
    "editable": true
   },
   "outputs": [],
   "source": [
    "# Create btc_data directory\n",
    "!unzip btc_zip_filename -d btc_data_directory"
   ]
  },
  {
   "cell_type": "code",
   "execution_count": null,
   "metadata": {
    "editable": true
   },
   "outputs": [],
   "source": [
    "# Create eth_data directory\n",
    "!mkdir eth_data_directory"
   ]
  },
  {
   "cell_type": "code",
   "execution_count": null,
   "metadata": {
    "editable": true
   },
   "outputs": [],
   "source": [
    "# Create btc_data directory\n",
    "!unzip eth_data_directory -d eth_data_directory"
   ]
  },
  {
   "cell_type": "markdown",
   "metadata": {
    "editable": true
   },
   "source": [
    "## Step 1: Scope the Project and Gather Data\n",
    "\n",
    "#### Project Scope \n",
    "\n",
    "Create a Data Pipeline to process Bitcoin and Ethereum daily prices from CSV files and add to the Data Warehouse, and then can be used to run price prediction models using Machine Learning Time series analysis. The pipeline includes data loading, cleaning, transformation, and aggregation to make the data available to train the ML models. In this project, the main goal is to build the data pipeline to load data to the Data Warehouse and make it available to run ML Models for price prediction.\n",
    "\n",
    "To build the ETL Pipeline Apache Spark On AWS Services is used, and pandas and matplotlib is used to execute the EDA. Pyspark API is used to interact with Spark.\n",
    "\n",
    "#### Describe and Gather Data \n",
    "\n",
    "Datasets used is obtained from Kaggle's datasets, from these repositories:\n",
    "\n",
    "**Bitcoin Historical Data**\n",
    "\n",
    "    * Source: https://www.kaggle.com/mczielinski/bitcoin-historical-data\n",
    "    * Description: Bitcoin data at 1-min intervals from select exchanges, Jan 2012 to March 2021\n",
    "    * Format: Unique CSV file\n",
    "    * Fields: - Timestamp\n",
    "              - Open\n",
    "              - High\n",
    "              - Low\n",
    "              - Close\n",
    "              - Volume_(BTC)\n",
    "              - Volume_(Currency)\n",
    "              - Weighted_Price\n",
    "    * Time period: 2012-01-01 to 2021-3-31\n",
    "\n",
    "**Ethereum (ETH/USDT) 1m Dataset**\n",
    "\n",
    "    * Source: https://www.kaggle.com/priteshkeleven/ethereum-ethusdt-1m-dataset\n",
    "    * Description: Ethereum dataset with 1 minute interval from 17-8-2017 to 03-2-2021\n",
    "    * Format: CSV for each month\n",
    "    * Fields: - timestamp\n",
    "              - open\n",
    "              - high\n",
    "              - low\n",
    "              - close\n",
    "              - volume\n",
    "              - close_time\n",
    "              - quote_av\n",
    "              - trades\n",
    "              - tb_base_av\n",
    "              - tb_quote_av\n",
    "              - ignore\n",
    "\n",
    "    * Time period: 17-8-2017 to 03-2-2021"
   ]
  },
  {
   "cell_type": "markdown",
   "metadata": {
    "editable": true
   },
   "source": [
    "## Step 2: Explore and Assess the Data"
   ]
  },
  {
   "cell_type": "markdown",
   "metadata": {
    "editable": true
   },
   "source": [
    "### 2.1 Read Bitcoin data"
   ]
  },
  {
   "cell_type": "markdown",
   "metadata": {
    "editable": true
   },
   "source": [
    "**NOTE**: Original content was compressed zip file. The files were unziped and copu to a local directory to execute the EDA"
   ]
  },
  {
   "cell_type": "code",
   "execution_count": 5,
   "metadata": {
    "editable": true
   },
   "outputs": [
    {
     "name": "stdout",
     "output_type": "stream",
     "text": [
      "data/btc_data/*.csv\n"
     ]
    }
   ],
   "source": [
    "# Define a function to read the BTC data from files and consolidate a unique datafram\n",
    "path = os.path.join(input_data,'btc_data' ,'*.csv')\n",
    "print(path)\n",
    "files = glob.glob(path)\n",
    "l_data = []\n",
    "\n",
    "for filename in files:\n",
    "    e_data = pd.read_csv(filename, index_col=None, header=0)\n",
    "    l_data.append(e_data)\n",
    "\n",
    "BTC_data = pd.concat(l_data, axis=0, ignore_index=True)    "
   ]
  },
  {
   "cell_type": "code",
   "execution_count": 6,
   "metadata": {
    "editable": true
   },
   "outputs": [
    {
     "data": {
      "text/html": [
       "<div>\n",
       "<style scoped>\n",
       "    .dataframe tbody tr th:only-of-type {\n",
       "        vertical-align: middle;\n",
       "    }\n",
       "\n",
       "    .dataframe tbody tr th {\n",
       "        vertical-align: top;\n",
       "    }\n",
       "\n",
       "    .dataframe thead th {\n",
       "        text-align: right;\n",
       "    }\n",
       "</style>\n",
       "<table border=\"1\" class=\"dataframe\">\n",
       "  <thead>\n",
       "    <tr style=\"text-align: right;\">\n",
       "      <th></th>\n",
       "      <th>Timestamp</th>\n",
       "      <th>Open</th>\n",
       "      <th>High</th>\n",
       "      <th>Low</th>\n",
       "      <th>Close</th>\n",
       "      <th>Volume_(BTC)</th>\n",
       "      <th>Volume_(Currency)</th>\n",
       "      <th>Weighted_Price</th>\n",
       "    </tr>\n",
       "  </thead>\n",
       "  <tbody>\n",
       "    <tr>\n",
       "      <th>0</th>\n",
       "      <td>1325317920</td>\n",
       "      <td>4.39</td>\n",
       "      <td>4.39</td>\n",
       "      <td>4.39</td>\n",
       "      <td>4.39</td>\n",
       "      <td>0.455581</td>\n",
       "      <td>2.0</td>\n",
       "      <td>4.39</td>\n",
       "    </tr>\n",
       "    <tr>\n",
       "      <th>1</th>\n",
       "      <td>1325317980</td>\n",
       "      <td>NaN</td>\n",
       "      <td>NaN</td>\n",
       "      <td>NaN</td>\n",
       "      <td>NaN</td>\n",
       "      <td>NaN</td>\n",
       "      <td>NaN</td>\n",
       "      <td>NaN</td>\n",
       "    </tr>\n",
       "    <tr>\n",
       "      <th>2</th>\n",
       "      <td>1325318040</td>\n",
       "      <td>NaN</td>\n",
       "      <td>NaN</td>\n",
       "      <td>NaN</td>\n",
       "      <td>NaN</td>\n",
       "      <td>NaN</td>\n",
       "      <td>NaN</td>\n",
       "      <td>NaN</td>\n",
       "    </tr>\n",
       "    <tr>\n",
       "      <th>3</th>\n",
       "      <td>1325318100</td>\n",
       "      <td>NaN</td>\n",
       "      <td>NaN</td>\n",
       "      <td>NaN</td>\n",
       "      <td>NaN</td>\n",
       "      <td>NaN</td>\n",
       "      <td>NaN</td>\n",
       "      <td>NaN</td>\n",
       "    </tr>\n",
       "    <tr>\n",
       "      <th>4</th>\n",
       "      <td>1325318160</td>\n",
       "      <td>NaN</td>\n",
       "      <td>NaN</td>\n",
       "      <td>NaN</td>\n",
       "      <td>NaN</td>\n",
       "      <td>NaN</td>\n",
       "      <td>NaN</td>\n",
       "      <td>NaN</td>\n",
       "    </tr>\n",
       "  </tbody>\n",
       "</table>\n",
       "</div>"
      ],
      "text/plain": [
       "    Timestamp  Open  High   Low  Close  Volume_(BTC)  Volume_(Currency)  \\\n",
       "0  1325317920  4.39  4.39  4.39   4.39      0.455581                2.0   \n",
       "1  1325317980   NaN   NaN   NaN    NaN           NaN                NaN   \n",
       "2  1325318040   NaN   NaN   NaN    NaN           NaN                NaN   \n",
       "3  1325318100   NaN   NaN   NaN    NaN           NaN                NaN   \n",
       "4  1325318160   NaN   NaN   NaN    NaN           NaN                NaN   \n",
       "\n",
       "   Weighted_Price  \n",
       "0            4.39  \n",
       "1             NaN  \n",
       "2             NaN  \n",
       "3             NaN  \n",
       "4             NaN  "
      ]
     },
     "execution_count": 6,
     "metadata": {},
     "output_type": "execute_result"
    }
   ],
   "source": [
    "BTC_data.head(5)"
   ]
  },
  {
   "cell_type": "code",
   "execution_count": 7,
   "metadata": {
    "editable": true
   },
   "outputs": [
    {
     "data": {
      "text/plain": [
       "Index(['Timestamp', 'Open', 'High', 'Low', 'Close', 'Volume_(BTC)',\n",
       "       'Volume_(Currency)', 'Weighted_Price'],\n",
       "      dtype='object')"
      ]
     },
     "execution_count": 7,
     "metadata": {},
     "output_type": "execute_result"
    }
   ],
   "source": [
    "# Show data columns\n",
    "BTC_data.columns"
   ]
  },
  {
   "cell_type": "code",
   "execution_count": 8,
   "metadata": {
    "editable": true
   },
   "outputs": [
    {
     "data": {
      "text/plain": [
       "(4857377, 8)"
      ]
     },
     "execution_count": 8,
     "metadata": {},
     "output_type": "execute_result"
    }
   ],
   "source": [
    "# count registers\n",
    "BTC_data.shape"
   ]
  },
  {
   "cell_type": "code",
   "execution_count": 9,
   "metadata": {
    "editable": true
   },
   "outputs": [
    {
     "data": {
      "text/plain": [
       "Timestamp                  0\n",
       "Open                 1243608\n",
       "High                 1243608\n",
       "Low                  1243608\n",
       "Close                1243608\n",
       "Volume_(BTC)         1243608\n",
       "Volume_(Currency)    1243608\n",
       "Weighted_Price       1243608\n",
       "dtype: int64"
      ]
     },
     "execution_count": 9,
     "metadata": {},
     "output_type": "execute_result"
    }
   ],
   "source": [
    "# Count the null values\n",
    "BTC_data.isnull().sum(axis = 0)"
   ]
  },
  {
   "cell_type": "markdown",
   "metadata": {
    "editable": true
   },
   "source": [
    "### 2.2 Read ETH data"
   ]
  },
  {
   "cell_type": "code",
   "execution_count": 10,
   "metadata": {
    "editable": true
   },
   "outputs": [],
   "source": [
    "# Define a function to read the ETH data from files and consolidate a unique datafram\n",
    "path = os.path.join(eth_data_directory, '*.csv')\n",
    "files = glob.glob(path)\n",
    "l_data = []\n",
    "\n",
    "for filename in files:\n",
    "    e_data = pd.read_csv(filename, index_col=None, header=0)\n",
    "    l_data.append(e_data)\n",
    "\n",
    "ETH_data = pd.concat(l_data, axis=0, ignore_index=True)         "
   ]
  },
  {
   "cell_type": "code",
   "execution_count": 11,
   "metadata": {
    "editable": true
   },
   "outputs": [
    {
     "data": {
      "text/html": [
       "<div>\n",
       "<style scoped>\n",
       "    .dataframe tbody tr th:only-of-type {\n",
       "        vertical-align: middle;\n",
       "    }\n",
       "\n",
       "    .dataframe tbody tr th {\n",
       "        vertical-align: top;\n",
       "    }\n",
       "\n",
       "    .dataframe thead th {\n",
       "        text-align: right;\n",
       "    }\n",
       "</style>\n",
       "<table border=\"1\" class=\"dataframe\">\n",
       "  <thead>\n",
       "    <tr style=\"text-align: right;\">\n",
       "      <th></th>\n",
       "      <th>timestamp</th>\n",
       "      <th>open</th>\n",
       "      <th>high</th>\n",
       "      <th>low</th>\n",
       "      <th>close</th>\n",
       "      <th>volume</th>\n",
       "      <th>close_time</th>\n",
       "      <th>quote_av</th>\n",
       "      <th>trades</th>\n",
       "      <th>tb_base_av</th>\n",
       "      <th>tb_quote_av</th>\n",
       "      <th>ignore</th>\n",
       "    </tr>\n",
       "  </thead>\n",
       "  <tbody>\n",
       "    <tr>\n",
       "      <th>0</th>\n",
       "      <td>2020-08-19 00:00:00</td>\n",
       "      <td>421.92</td>\n",
       "      <td>423.56</td>\n",
       "      <td>421.51</td>\n",
       "      <td>423.55</td>\n",
       "      <td>1632.38697</td>\n",
       "      <td>1597795259999</td>\n",
       "      <td>689035.133220</td>\n",
       "      <td>511</td>\n",
       "      <td>998.48569</td>\n",
       "      <td>421432.152640</td>\n",
       "      <td>0.0</td>\n",
       "    </tr>\n",
       "    <tr>\n",
       "      <th>1</th>\n",
       "      <td>2020-08-19 00:01:00</td>\n",
       "      <td>423.56</td>\n",
       "      <td>424.27</td>\n",
       "      <td>423.56</td>\n",
       "      <td>423.98</td>\n",
       "      <td>909.17074</td>\n",
       "      <td>1597795319999</td>\n",
       "      <td>385519.232088</td>\n",
       "      <td>382</td>\n",
       "      <td>352.17966</td>\n",
       "      <td>149320.871212</td>\n",
       "      <td>0.0</td>\n",
       "    </tr>\n",
       "    <tr>\n",
       "      <th>2</th>\n",
       "      <td>2020-08-19 00:02:00</td>\n",
       "      <td>424.00</td>\n",
       "      <td>424.00</td>\n",
       "      <td>422.96</td>\n",
       "      <td>423.01</td>\n",
       "      <td>712.07169</td>\n",
       "      <td>1597795379999</td>\n",
       "      <td>301541.453675</td>\n",
       "      <td>305</td>\n",
       "      <td>174.70524</td>\n",
       "      <td>74014.364972</td>\n",
       "      <td>0.0</td>\n",
       "    </tr>\n",
       "    <tr>\n",
       "      <th>3</th>\n",
       "      <td>2020-08-19 00:03:00</td>\n",
       "      <td>423.00</td>\n",
       "      <td>423.02</td>\n",
       "      <td>422.56</td>\n",
       "      <td>422.68</td>\n",
       "      <td>680.10097</td>\n",
       "      <td>1597795439999</td>\n",
       "      <td>287561.429434</td>\n",
       "      <td>264</td>\n",
       "      <td>228.55088</td>\n",
       "      <td>96630.824900</td>\n",
       "      <td>0.0</td>\n",
       "    </tr>\n",
       "    <tr>\n",
       "      <th>4</th>\n",
       "      <td>2020-08-19 00:04:00</td>\n",
       "      <td>422.67</td>\n",
       "      <td>423.07</td>\n",
       "      <td>422.42</td>\n",
       "      <td>422.54</td>\n",
       "      <td>414.13931</td>\n",
       "      <td>1597795499999</td>\n",
       "      <td>175058.889421</td>\n",
       "      <td>315</td>\n",
       "      <td>153.82495</td>\n",
       "      <td>65014.349621</td>\n",
       "      <td>0.0</td>\n",
       "    </tr>\n",
       "  </tbody>\n",
       "</table>\n",
       "</div>"
      ],
      "text/plain": [
       "             timestamp    open    high     low   close      volume  \\\n",
       "0  2020-08-19 00:00:00  421.92  423.56  421.51  423.55  1632.38697   \n",
       "1  2020-08-19 00:01:00  423.56  424.27  423.56  423.98   909.17074   \n",
       "2  2020-08-19 00:02:00  424.00  424.00  422.96  423.01   712.07169   \n",
       "3  2020-08-19 00:03:00  423.00  423.02  422.56  422.68   680.10097   \n",
       "4  2020-08-19 00:04:00  422.67  423.07  422.42  422.54   414.13931   \n",
       "\n",
       "      close_time       quote_av  trades  tb_base_av    tb_quote_av  ignore  \n",
       "0  1597795259999  689035.133220     511   998.48569  421432.152640     0.0  \n",
       "1  1597795319999  385519.232088     382   352.17966  149320.871212     0.0  \n",
       "2  1597795379999  301541.453675     305   174.70524   74014.364972     0.0  \n",
       "3  1597795439999  287561.429434     264   228.55088   96630.824900     0.0  \n",
       "4  1597795499999  175058.889421     315   153.82495   65014.349621     0.0  "
      ]
     },
     "execution_count": 11,
     "metadata": {},
     "output_type": "execute_result"
    }
   ],
   "source": [
    "ETH_data.head(5)"
   ]
  },
  {
   "cell_type": "code",
   "execution_count": 12,
   "metadata": {
    "editable": true
   },
   "outputs": [
    {
     "data": {
      "text/plain": [
       "Index(['timestamp', 'open', 'high', 'low', 'close', 'volume', 'close_time',\n",
       "       'quote_av', 'trades', 'tb_base_av', 'tb_quote_av', 'ignore'],\n",
       "      dtype='object')"
      ]
     },
     "execution_count": 12,
     "metadata": {},
     "output_type": "execute_result"
    }
   ],
   "source": [
    "# Show data columns\n",
    "ETH_data.columns"
   ]
  },
  {
   "cell_type": "code",
   "execution_count": 13,
   "metadata": {
    "editable": true
   },
   "outputs": [
    {
     "data": {
      "text/plain": [
       "(1817149, 12)"
      ]
     },
     "execution_count": 13,
     "metadata": {},
     "output_type": "execute_result"
    }
   ],
   "source": [
    "# count registers\n",
    "ETH_data.shape"
   ]
  },
  {
   "cell_type": "code",
   "execution_count": 14,
   "metadata": {
    "editable": true
   },
   "outputs": [
    {
     "data": {
      "text/plain": [
       "timestamp      0\n",
       "open           0\n",
       "high           0\n",
       "low            0\n",
       "close          0\n",
       "volume         0\n",
       "close_time     0\n",
       "quote_av       0\n",
       "trades         0\n",
       "tb_base_av     0\n",
       "tb_quote_av    0\n",
       "ignore         0\n",
       "dtype: int64"
      ]
     },
     "execution_count": 14,
     "metadata": {},
     "output_type": "execute_result"
    }
   ],
   "source": [
    "# Count the null values\n",
    "ETH_data.isnull().sum(axis = 0)"
   ]
  },
  {
   "cell_type": "markdown",
   "metadata": {
    "editable": true
   },
   "source": [
    "### 2.3 Data Quality Analysis"
   ]
  },
  {
   "cell_type": "markdown",
   "metadata": {
    "editable": true
   },
   "source": [
    "#### After verify the BTC and ETH data, these quality issues were identified:\n",
    "\n",
    "**istorical BTC data:**\n",
    "\n",
    "  - From 4.857.377 registers in the file, 1.243.608 have null values\n",
    "  - The time format is timestamp and needs transformation to make possible join data to ETH dataset\n",
    "\n",
    "\n",
    "**Historical ETH data:**\n",
    "\n",
    "   - From 1.817.149 registers in the files there are not null values\n",
    "   - The time format is timestamp and needs transformation to make possible join data to ETH dataset\n",
    "\n",
    "- Number of columns between datasets arr diferent, need to map atribbuites.\n",
    "- Registers are not ordered, for the combined table need sorting.\n",
    "\n",
    "\n",
    "**Mapping data fields**\n",
    "\n",
    "    BTC fields                         ETF fields\n",
    "    - Timestamp                        - timestamp \n",
    "    - Open                             - open \n",
    "    - High                             - high \n",
    "    - Low                              - low \n",
    "    - Close                            - close \n",
    "    - Volume_(BTC)                     - close_time \n",
    "    - Volume_(Currency)                - quote_av \n",
    "    - Weighted_Price                   - trades \n",
    "                                       - tb_base_av \n",
    "                                       - tb_quote_av \n",
    "                                       - ignore   "
   ]
  },
  {
   "cell_type": "markdown",
   "metadata": {
    "editable": true
   },
   "source": [
    "### 2.4 Data cleaning required"
   ]
  },
  {
   "cell_type": "markdown",
   "metadata": {
    "editable": true
   },
   "source": [
    "Input data requires execute this process:\n",
    "\n",
    "    - Drop null values from staging tables for BTC data (Can't replace with cero values )\n",
    "    - Only use fields that appear in both datasets\n",
    "    - Timestamp need to be splitted into year, month, day, hour \n",
    "    - Data need to be ordered vy date keys"
   ]
  },
  {
   "cell_type": "markdown",
   "metadata": {
    "editable": true
   },
   "source": [
    "## 3. Define the Data Model"
   ]
  },
  {
   "cell_type": "markdown",
   "metadata": {
    "editable": true
   },
   "source": [
    "### 3.1 Conceptual Data Model\n",
    "\n",
    "\n",
    "![conceptual mode](./conceptual_model-spark.png)\n",
    "\n",
    "\n",
    "The basic model is consolidate table that works as the source for ML Models training.\n",
    "\n",
    "\n",
    "\n",
    "\n",
    "    *Table: staging_btc\n",
    "\n",
    "    *Columns:\n",
    "        - Timestamp\n",
    "        - Open\n",
    "        - High\n",
    "        - Low\n",
    "        - Close\n",
    "        - Volume_btc\n",
    "        - Volume_currency\n",
    "        - Weighted_price\n",
    "\n",
    "\n",
    "    *Table: staging_eth\n",
    "\n",
    "    *Columns:\n",
    "        - timestamp\n",
    "        - open\n",
    "        - high\n",
    "        - close\n",
    "        - volume\n",
    "        - close_time\n",
    "        - quote_av\n",
    "        - trades\n",
    "        - tb_base_av\n",
    "        - tb_quote_Av\n",
    "        - ignore\n",
    "\n",
    "\n",
    "    *Table: btc_timeseries\n",
    "\n",
    "    *Columns:\n",
    "        - timestamp\n",
    "        - year\n",
    "        - month\n",
    "        - day\n",
    "        - hour\n",
    "        - btc_open\n",
    "        - btc_high\n",
    "        - btc_low\n",
    "        - btc_close\n",
    "        - btc_volume\n",
    "\n",
    "\n",
    "    *Table: eth_timeseries\n",
    "\n",
    "    *Columns:\n",
    "        - timestamp\n",
    "        - year (Partition Key)\n",
    "        - month\n",
    "        - day\n",
    "        - hour\n",
    "        - eth_open\n",
    "        - eth_high\n",
    "        - eth_low\n",
    "        - eth_close\n",
    "        - eth_volume\n",
    "\n",
    "\n",
    "    *Table: crypto_timeseries\n",
    "\n",
    "    *Columns:\n",
    "        - year (Partition Key)\n",
    "        - month\n",
    "        - day\n",
    "        - hour\n",
    "        - btc_open\n",
    "        - btc_high\n",
    "        - btc_low\n",
    "        - btc_close\n",
    "        - btc_volume\n",
    "        - eth_open\n",
    "        - eth_high\n",
    "        - eth_low\n",
    "        - eth_close\n",
    "        - eth_volume"
   ]
  },
  {
   "cell_type": "markdown",
   "metadata": {
    "editable": true
   },
   "source": [
    "### 3.2 Mapping Out Data Pipelines\n",
    "\n",
    "  - Define the global variables in the configuration file (dl.cfg)\n",
    "  - Read data from CSV files from INPUT_FILE Directory into Spark dataframe\n",
    "  - Save Spark dataframes to staging parquet file \n",
    "  - Read BTC parket file and drop null values.\n",
    "  - Transform BTC timestamp in to (year, month, day, hour)\n",
    "  - Transform ETH timestamp in to (year, month, day, hour)\n",
    "  - Join BTC and ETH spark dataframes\n",
    "  - Save data to table crypto_timeseries\n",
    "  - Run the Quality control check"
   ]
  },
  {
   "cell_type": "markdown",
   "metadata": {
    "editable": true
   },
   "source": [
    "## Step 4: Run Pipelines to Model the Data "
   ]
  },
  {
   "cell_type": "markdown",
   "metadata": {
    "editable": true
   },
   "source": [
    "#### 4.1 Create the data model\n",
    "Build the data pipelines to create the data model."
   ]
  },
  {
   "cell_type": "markdown",
   "metadata": {
    "editable": true
   },
   "source": [
    "#### 4.1.1 Create Spark session"
   ]
  },
  {
   "cell_type": "code",
   "execution_count": 15,
   "metadata": {
    "editable": true
   },
   "outputs": [],
   "source": [
    "# Create the spark session\n",
    "spark = SparkSession.builder.getOrCreate()"
   ]
  },
  {
   "cell_type": "markdown",
   "metadata": {
    "editable": true
   },
   "source": [
    "#### 4.1.2 Read data from CSV files and write Spark DataFrames to parquet files"
   ]
  },
  {
   "cell_type": "markdown",
   "metadata": {
    "editable": true
   },
   "source": [
    "##### Create the BTC Data Staging file"
   ]
  },
  {
   "cell_type": "code",
   "execution_count": 16,
   "metadata": {
    "editable": true
   },
   "outputs": [
    {
     "name": "stdout",
     "output_type": "stream",
     "text": [
      "root\n",
      " |-- Timestamp: integer (nullable = true)\n",
      " |-- Open: double (nullable = true)\n",
      " |-- High: double (nullable = true)\n",
      " |-- Low: double (nullable = true)\n",
      " |-- Close: double (nullable = true)\n",
      " |-- Volume_(BTC): double (nullable = true)\n",
      " |-- Volume_(Currency): double (nullable = true)\n",
      " |-- Weighted_Price: double (nullable = true)\n",
      "\n",
      "+----------+----+----+----+-----+------------+-----------------+--------------+\n",
      "|Timestamp |Open|High|Low |Close|Volume_(BTC)|Volume_(Currency)|Weighted_Price|\n",
      "+----------+----+----+----+-----+------------+-----------------+--------------+\n",
      "|1325317920|4.39|4.39|4.39|4.39 |0.45558087  |2.0000000193     |4.39          |\n",
      "|1325317980|NaN |NaN |NaN |NaN  |NaN         |NaN              |NaN           |\n",
      "|1325318040|NaN |NaN |NaN |NaN  |NaN         |NaN              |NaN           |\n",
      "|1325318100|NaN |NaN |NaN |NaN  |NaN         |NaN              |NaN           |\n",
      "|1325318160|NaN |NaN |NaN |NaN  |NaN         |NaN              |NaN           |\n",
      "+----------+----+----+----+-----+------------+-----------------+--------------+\n",
      "only showing top 5 rows\n",
      "\n"
     ]
    }
   ],
   "source": [
    "# read BTC data to spark\n",
    "btc_data_staging = spark.read.options(header='True', inferSchema='True').csv(INPUT_DATA_BTC_DIRECTORY)\n",
    "btc_data_staging.printSchema()\n",
    "btc_data_staging.show(5, truncate=False)"
   ]
  },
  {
   "cell_type": "code",
   "execution_count": 17,
   "metadata": {
    "editable": true
   },
   "outputs": [
    {
     "data": {
      "text/plain": [
       "4857377"
      ]
     },
     "execution_count": 17,
     "metadata": {},
     "output_type": "execute_result"
    }
   ],
   "source": [
    "# BTC Rows Count \n",
    "btc_data_staging.count()"
   ]
  },
  {
   "cell_type": "code",
   "execution_count": 18,
   "metadata": {
    "editable": true
   },
   "outputs": [
    {
     "name": "stdout",
     "output_type": "stream",
     "text": [
      "root\n",
      " |-- Timestamp: integer (nullable = true)\n",
      " |-- Open: double (nullable = true)\n",
      " |-- High: double (nullable = true)\n",
      " |-- Low: double (nullable = true)\n",
      " |-- Close: double (nullable = true)\n",
      " |-- Volume_BTC: double (nullable = true)\n",
      " |-- Volume_Currency: double (nullable = true)\n",
      " |-- Weighted_Price: double (nullable = true)\n",
      "\n"
     ]
    }
   ],
   "source": [
    "# Rename columns with not allowed symbols and write the parket file\n",
    "btc_data_staging_temp = btc_data_staging.withColumnRenamed(\"Volume_(BTC)\", \"Volume_BTC\") \\\n",
    "                                        .withColumnRenamed(\"Volume_(Currency)\", \"Volume_Currency\")\n",
    "\n",
    "btc_data_staging_temp.printSchema()\n",
    "btc_data_staging_temp.write.mode(\"overwrite\").parquet(output_data+\"btcstaging.parquet\")"
   ]
  },
  {
   "cell_type": "markdown",
   "metadata": {
    "editable": true
   },
   "source": [
    "##### Create the ETH Data Staging file"
   ]
  },
  {
   "cell_type": "code",
   "execution_count": 19,
   "metadata": {
    "editable": true
   },
   "outputs": [
    {
     "name": "stdout",
     "output_type": "stream",
     "text": [
      "root\n",
      " |-- timestamp: timestamp (nullable = true)\n",
      " |-- open: double (nullable = true)\n",
      " |-- high: double (nullable = true)\n",
      " |-- low: double (nullable = true)\n",
      " |-- close: double (nullable = true)\n",
      " |-- volume: double (nullable = true)\n",
      " |-- close_time: long (nullable = true)\n",
      " |-- quote_av: double (nullable = true)\n",
      " |-- trades: integer (nullable = true)\n",
      " |-- tb_base_av: double (nullable = true)\n",
      " |-- tb_quote_av: double (nullable = true)\n",
      " |-- ignore: double (nullable = true)\n",
      "\n",
      "+----------------------+------+------+------+------+--------+-------------+-------------+------+----------+-------------+---------------+\n",
      "|timestamp             |open  |high  |low   |close |volume  |close_time   |quote_av     |trades|tb_base_av|tb_quote_av  |ignore         |\n",
      "+----------------------+------+------+------+------+--------+-------------+-------------+------+----------+-------------+---------------+\n",
      "|2017-12-13 00:00:20.81|619.4 |621.99|615.11|615.12|34.17637|1513123280809|21085.5846554|42    |22.16912  |13678.7625208|396902.76727375|\n",
      "|2017-12-13 00:01:20.81|615.12|617.86|615.11|616.99|26.96652|1513123340809|16610.1922788|26    |18.68354  |11509.242068 |396673.21816384|\n",
      "|2017-12-13 00:02:20.81|617.0 |617.0 |613.01|613.01|29.32637|1513123400809|18043.0303292|52    |18.03304  |11102.5676661|396552.02389462|\n",
      "|2017-12-13 00:03:20.81|613.01|615.11|610.0 |611.76|53.86512|1513123460809|32970.7225753|60    |23.70823  |14534.62275  |396556.05743226|\n",
      "|2017-12-13 00:04:20.81|610.8 |612.0 |608.99|608.99|51.15932|1513123520809|31245.7210752|46    |24.61767  |15039.4416256|396537.43108709|\n",
      "+----------------------+------+------+------+------+--------+-------------+-------------+------+----------+-------------+---------------+\n",
      "only showing top 5 rows\n",
      "\n"
     ]
    }
   ],
   "source": [
    "# read ETH data to spark\n",
    "eth_data_staging = spark.read.options(header='True', inferSchema='True').csv('data/eth_data/eth_data/')\n",
    "eth_data_staging.printSchema()\n",
    "eth_data_staging.show(5, truncate=False)"
   ]
  },
  {
   "cell_type": "code",
   "execution_count": 20,
   "metadata": {
    "editable": true
   },
   "outputs": [
    {
     "data": {
      "text/plain": [
       "1817149"
      ]
     },
     "execution_count": 20,
     "metadata": {},
     "output_type": "execute_result"
    }
   ],
   "source": [
    "# ETH Rows Count \n",
    "eth_data_staging.count()"
   ]
  },
  {
   "cell_type": "code",
   "execution_count": 21,
   "metadata": {
    "editable": true
   },
   "outputs": [],
   "source": [
    "# Write the parket file\n",
    "eth_data_staging.write.mode(\"overwrite\").parquet(output_data+\"ethstaging.parquet\")"
   ]
  },
  {
   "cell_type": "markdown",
   "metadata": {
    "editable": true
   },
   "source": [
    "#### 4.1.3 Clean null values from staging BTC"
   ]
  },
  {
   "cell_type": "code",
   "execution_count": null,
   "metadata": {
    "editable": true
   },
   "outputs": [],
   "source": [
    "# Read parquet file for BTC data and drop null values\n",
    "btc_data_staging = spark.read.parquet(output_data+\"btcstaging.parquet\")\n",
    "btc_data_staging_temp = btc_data_staging.na.drop()\n",
    "btc_data_staging_temp.show(5, truncate=False)\n",
    "btc_data_staging_temp.count()"
   ]
  },
  {
   "cell_type": "markdown",
   "metadata": {
    "editable": true
   },
   "source": [
    "#### 4.1.4 Format BTC date , create btc_timeseries table and save parquet file"
   ]
  },
  {
   "cell_type": "code",
   "execution_count": null,
   "metadata": {
    "editable": true
   },
   "outputs": [],
   "source": [
    "btc_data_staging_temp = btc_data_staging_temp.withColumn('year',year(to_timestamp('Timestamp')))\n",
    "btc_data_staging_temp = btc_data_staging_temp.withColumn('month',month(to_timestamp('Timestamp')))\n",
    "btc_data_staging_temp = btc_data_staging_temp.withColumn('day',dayofmonth(to_timestamp('Timestamp')))\n",
    "btc_data_staging_temp = btc_data_staging_temp.withColumn('hour',hour(to_timestamp('Timestamp')))\n",
    "btc_data_staging_temp = btc_data_staging_temp.withColumn('minute',minute(to_timestamp('Timestamp')))"
   ]
  },
  {
   "cell_type": "code",
   "execution_count": null,
   "metadata": {
    "editable": true
   },
   "outputs": [],
   "source": [
    "btc_data_staging_temp.show(5, truncate=False)"
   ]
  },
  {
   "cell_type": "code",
   "execution_count": null,
   "metadata": {
    "editable": true
   },
   "outputs": [],
   "source": [
    "# btc_timeseries table creation\n",
    "\n",
    "btc_data_staging_temp.createOrReplaceTempView(\"btc_timeseries\")\n",
    "btc_timeseries_table = spark.sql(\"\"\"\n",
    "    SELECT  DISTINCT Timestamp    AS timestamp,\n",
    "                     year         AS year, \n",
    "                     month        AS month, \n",
    "                     day          AS day, \n",
    "                     hour         AS hour, \n",
    "                     minute       AS minute,\n",
    "                     Open         AS btc_open, \n",
    "                     High         AS btc_high, \n",
    "                     Low          AS btc_low,\n",
    "                     Volume_BTC   AS btc_volume                     \n",
    "    FROM btc_timeseries\n",
    "    ORDER BY year, month, day, hour, minute\n",
    "\"\"\")\n",
    "btc_timeseries_table.printSchema()"
   ]
  },
  {
   "cell_type": "code",
   "execution_count": null,
   "metadata": {
    "editable": true
   },
   "outputs": [],
   "source": [
    "# Write btc_timeseries_table to parquet file:\n",
    "btc_timeseries_table.write.mode(\"overwrite\").parquet(output_data+btc_table_filename)"
   ]
  },
  {
   "cell_type": "markdown",
   "metadata": {
    "editable": true
   },
   "source": [
    "#### 4.1.5 Format ETH date , create eth_timeseries table and save parquet file"
   ]
  },
  {
   "cell_type": "code",
   "execution_count": null,
   "metadata": {
    "editable": true
   },
   "outputs": [],
   "source": [
    "# Read parquet file for ETH DATA\n",
    "eth_data_staging_temp = spark.read.parquet(output_data+\"ethstaging.parquet\")\n",
    "eth_data_staging_temp.show(5, truncate=False)\n",
    "eth_data_staging_temp.count()"
   ]
  },
  {
   "cell_type": "code",
   "execution_count": null,
   "metadata": {
    "editable": true
   },
   "outputs": [],
   "source": [
    "eth_data_staging_temp = eth_data_staging_temp.withColumn('year',year(to_timestamp('Timestamp')))\n",
    "eth_data_staging_temp = eth_data_staging_temp.withColumn('month',month(to_timestamp('Timestamp')))\n",
    "eth_data_staging_temp = eth_data_staging_temp.withColumn('day',dayofmonth(to_timestamp('Timestamp')))\n",
    "eth_data_staging_temp = eth_data_staging_temp.withColumn('hour',hour(to_timestamp('Timestamp')))\n",
    "eth_data_staging_temp = eth_data_staging_temp.withColumn('minute',minute(to_timestamp('Timestamp')))"
   ]
  },
  {
   "cell_type": "code",
   "execution_count": null,
   "metadata": {
    "editable": true
   },
   "outputs": [],
   "source": [
    "eth_data_staging_temp.show(5, truncate=False)"
   ]
  },
  {
   "cell_type": "code",
   "execution_count": null,
   "metadata": {
    "editable": true
   },
   "outputs": [],
   "source": [
    "# eth_timeseries table creation\n",
    "\n",
    "eth_data_staging_temp.createOrReplaceTempView(\"eth_timeseries\")\n",
    "eth_timeseries_table = spark.sql(\"\"\"\n",
    "    SELECT  DISTINCT timestamp    AS timestamp,\n",
    "                     year         AS year, \n",
    "                     month        AS month, \n",
    "                     day          AS day, \n",
    "                     hour         AS hour, \n",
    "                     minute       AS minute,\n",
    "                     open         AS eth_open, \n",
    "                     high         AS eth_high, \n",
    "                     low          AS eth_low,\n",
    "                     volume       AS eth_volume                     \n",
    "    FROM eth_timeseries\n",
    "    ORDER BY year, month, day, hour, minute\n",
    "\"\"\")\n",
    "eth_timeseries_table.printSchema()"
   ]
  },
  {
   "cell_type": "code",
   "execution_count": null,
   "metadata": {
    "editable": true
   },
   "outputs": [],
   "source": [
    "# Write btc_timeseries_table to parquet file:\n",
    "eth_timeseries_table.write.mode(\"overwrite\").parquet(output_data+eth_table_filename)"
   ]
  },
  {
   "cell_type": "markdown",
   "metadata": {
    "editable": true
   },
   "source": [
    "### 4.2 Join BTC and ETH data and create crypto_timeseries table"
   ]
  },
  {
   "cell_type": "code",
   "execution_count": null,
   "metadata": {
    "editable": true
   },
   "outputs": [],
   "source": [
    "# Read BTC timeseries table data form parquet file\n",
    "btc_timserie_table = spark.read.parquet(output_data+btc_table_filename)\n",
    "btc_timserie_table.show(5, truncate=False)"
   ]
  },
  {
   "cell_type": "code",
   "execution_count": null,
   "metadata": {
    "editable": true,
    "scrolled": true
   },
   "outputs": [],
   "source": [
    "# Read ETH timeseries table data form parquet file\n",
    "eth_timserie_table = spark.read.parquet(output_data+eth_table_filename)\n",
    "eth_timserie_table.show(5, truncate=False)"
   ]
  },
  {
   "cell_type": "code",
   "execution_count": null,
   "metadata": {
    "editable": true
   },
   "outputs": [],
   "source": [
    "# Join BTC and ETH tables by year, month, day, hour adn minute keys\n",
    "crypto_timeseries_spark = btc_timserie_table.join(eth_timserie_table, \\\n",
    "                                        (btc_timserie_table.year ==  eth_timserie_table.year))"
   ]
  },
  {
   "cell_type": "code",
   "execution_count": null,
   "metadata": {
    "editable": true
   },
   "outputs": [],
   "source": [
    "crypto_timeseries_spark.show(5, truncate=False)"
   ]
  },
  {
   "cell_type": "code",
   "execution_count": null,
   "metadata": {
    "editable": true
   },
   "outputs": [],
   "source": [
    "btc_timserie_table.createOrReplaceTempView(\"BTC_TABLE\")\n",
    "eth_timserie_table.createOrReplaceTempView(\"ETH_TABLE\")\n",
    "\n",
    "crypto_timeseries_spark = spark.sql(\"\"\"\n",
    "                SELECT DISTINCT B.year,\n",
    "                                B.month,\n",
    "                                B.day,\n",
    "                                B.hour,\n",
    "                                B.minute,\n",
    "                                B.btc_open,\n",
    "                                B.btc_high,\n",
    "                                B.btc_low,\n",
    "                                B.btc_volume,                                \n",
    "                                E.eth_open,\n",
    "                                E.eth_high,\n",
    "                                E.eth_low,\n",
    "                                E.eth_volume\n",
    "                FROM BTC_TABLE B INNER JOIN ETH_TABLE E \n",
    "                ON B.year == E.year \n",
    "                AND B.month == E.year\n",
    "                AND B.day == E.day\n",
    "                AND B.hour == E.hour                \n",
    "                AND B.minute == E.minute                \n",
    "                ORDER BY year, month, day, hour, minute\n",
    "                \"\"\")\n",
    "crypto_timeseries_spark.printSchema()"
   ]
  },
  {
   "cell_type": "code",
   "execution_count": null,
   "metadata": {
    "editable": true
   },
   "outputs": [],
   "source": [
    "# Count rows from crypto_timeseries_table\n",
    "crypto_timeseries_spark.show(5)"
   ]
  },
  {
   "cell_type": "code",
   "execution_count": null,
   "metadata": {
    "editable": true
   },
   "outputs": [],
   "source": [
    "# Write crypto_timeseries_table to parquet file:\n",
    "crypto_timeseries_spark.write.mode(\"overwrite\").parquet(output_data+crypto_timeseries_table)"
   ]
  },
  {
   "cell_type": "markdown",
   "metadata": {
    "editable": true
   },
   "source": [
    "#### 4.3 Data Quality Checks\n",
    "\n",
    "**Data quality checks:**\n",
    " * Check that all primary and secondary keys in star schema dimension and fact tables have values.\n",
    " * Check that all tables have more than 0 rows."
   ]
  },
  {
   "cell_type": "code",
   "execution_count": null,
   "metadata": {
    "editable": true
   },
   "outputs": [],
   "source": [
    "round_ts = start_time\n",
    "results = { \"round_ts\": round_ts,\n",
    "            \"staging_btc\": 0,\n",
    "            \"staging_eth\": \"\",\n",
    "            \"countries_count\": 0,\n",
    "            \"countries\": \"\",\n",
    "            \"airports_count\": 0,\n",
    "            \"airports\": \"\",\n",
    "            \"time_count\": 0,\n",
    "            \"time\": \"\",\n",
    "            \"immigrations_count\": 0,\n",
    "            \"immigrations\": \"\"}"
   ]
  },
  {
   "cell_type": "markdown",
   "metadata": {
    "editable": true
   },
   "source": [
    "##### 4.3.1 Quality checks for staging_btc table"
   ]
  },
  {
   "cell_type": "code",
   "execution_count": 30,
   "metadata": {
    "editable": true
   },
   "outputs": [
    {
     "name": "stdout",
     "output_type": "stream",
     "text": [
      "+----------------+\n",
      "|count(timestamp)|\n",
      "+----------------+\n",
      "|         4857377|\n",
      "+----------------+\n",
      "\n",
      "+-----------------------------------------------------------------------------+\n",
      "|count(CASE WHEN (isnan(timestamp) OR (timestamp IS NULL)) THEN timestamp END)|\n",
      "+-----------------------------------------------------------------------------+\n",
      "|                                                                            0|\n",
      "+-----------------------------------------------------------------------------+\n",
      "\n"
     ]
    }
   ],
   "source": [
    "# verify table is not empty and key don' have null values\n",
    "btc_data_staging_check = spark.read.parquet(output_data+\"btcstaging.parquet\")\n",
    "btc_data_staging_check.select(count(col('timestamp'))).show()\n",
    "btc_data_staging_check.select(count(when(isnan('timestamp') | col('timestamp').isNull(), 'timestamp'))).show()"
   ]
  },
  {
   "cell_type": "markdown",
   "metadata": {
    "editable": true
   },
   "source": [
    "##### 4.3.2 Quality checks for staging_eth table"
   ]
  },
  {
   "cell_type": "code",
   "execution_count": 31,
   "metadata": {
    "editable": true
   },
   "outputs": [
    {
     "name": "stdout",
     "output_type": "stream",
     "text": [
      "+----------------+\n",
      "|count(timestamp)|\n",
      "+----------------+\n",
      "|         1817149|\n",
      "+----------------+\n",
      "\n",
      "+-------------------------------------------------------+\n",
      "|count(CASE WHEN (timestamp IS NULL) THEN timestamp END)|\n",
      "+-------------------------------------------------------+\n",
      "|                                                      0|\n",
      "+-------------------------------------------------------+\n",
      "\n"
     ]
    }
   ],
   "source": [
    "# verify table is not empty and key don' have null values\n",
    "eth_data_staging_check = spark.read.parquet(output_data+\"ethstaging.parquet\")\n",
    "eth_data_staging_check.select(count(col('timestamp'))).show()\n",
    "eth_data_staging_check.select(count(when(col('timestamp').isNull(), 'timestamp'))).show()"
   ]
  },
  {
   "cell_type": "code",
   "execution_count": null,
   "metadata": {
    "editable": true
   },
   "outputs": [],
   "source": []
  },
  {
   "cell_type": "code",
   "execution_count": null,
   "metadata": {
    "editable": true
   },
   "outputs": [],
   "source": []
  },
  {
   "cell_type": "code",
   "execution_count": null,
   "metadata": {
    "editable": true
   },
   "outputs": [],
   "source": [
    "##### 4.3.1 Quality checks for staging_btc table\n"
   ]
  },
  {
   "cell_type": "code",
   "execution_count": null,
   "metadata": {
    "editable": true
   },
   "outputs": [],
   "source": [
    "if admissions_table_check1.collect()[0][0] > 0 & admissions_table_check2.collect()[0][0] < 1:\n",
    "    results['admissions_count'] = admissions_table_check2.collect()[0][0]\n",
    "    results['admissions'] = \"NOK\"\n",
    "else:\n",
    "    results['admissions_count'] = admissions_table_check2.collect()[0][0]\n",
    "    results['admissions'] = \"OK\"\n",
    "\n",
    "print(f\"RESULTS: {results}\")"
   ]
  },
  {
   "cell_type": "markdown",
   "metadata": {
    "editable": true
   },
   "source": [
    "#### 4.2.2 Quality checks for countries table"
   ]
  },
  {
   "cell_type": "code",
   "execution_count": null,
   "metadata": {
    "editable": true
   },
   "outputs": [],
   "source": [
    "# Check that key fields have valid values (no nulls or empty)\n",
    "countries_table_df.createOrReplaceTempView(\"countries_table_DF\")\n",
    "countries_table_check1 = spark.sql(\"\"\"\n",
    "    SELECT  COUNT(*)\n",
    "    FROM countries_table_DF\n",
    "    WHERE   country_code IS NULL OR country_code == \"\"\n",
    "\"\"\")\n",
    "countries_table_check1.show(1)\n",
    "countries_table_check1.collect()[0][0]"
   ]
  },
  {
   "cell_type": "code",
   "execution_count": null,
   "metadata": {
    "editable": true
   },
   "outputs": [],
   "source": [
    "# Check that table has > 0 rows\n",
    "countries_table_df.createOrReplaceTempView(\"countries_table_DF\")\n",
    "countries_table_check2 = spark.sql(\"\"\"\n",
    "    SELECT  COUNT(*)\n",
    "    FROM countries_table_DF\n",
    "\"\"\")\n",
    "countries_table_check2.show(1)\n",
    "countries_table_check2.collect()[0][0]"
   ]
  },
  {
   "cell_type": "code",
   "execution_count": null,
   "metadata": {
    "editable": true
   },
   "outputs": [],
   "source": [
    "if countries_table_check1.collect()[0][0] > 0 & countries_table_check2.collect()[0][0] < 1:\n",
    "    results['countries_count'] = countries_table_check2.collect()[0][0]\n",
    "    results['countries'] = \"NOK\"\n",
    "else:\n",
    "    results['countries_count'] = countries_table_check2.collect()[0][0]\n",
    "    results['countries'] = \"OK\"\n",
    "\n",
    "print(f\"RESULTS: {results}\")"
   ]
  },
  {
   "cell_type": "markdown",
   "metadata": {
    "editable": true
   },
   "source": [
    "#### 4.2.3 Quality checks for airports table"
   ]
  },
  {
   "cell_type": "code",
   "execution_count": null,
   "metadata": {
    "editable": true
   },
   "outputs": [],
   "source": [
    "# Check that key fields have valid values (no nulls or empty)\n",
    "airports_table_df.createOrReplaceTempView(\"airports_table_DF\")\n",
    "airports_table_check1 = spark.sql(\"\"\"\n",
    "    SELECT  COUNT(*)\n",
    "    FROM airports_table_DF\n",
    "    WHERE   airport_id IS NULL OR airport_id == \"\" OR\n",
    "            airport_name IS NULL OR airport_name == \"\"\n",
    "\"\"\")\n",
    "countries_table_check2.show(1)\n",
    "countries_table_check2.collect()[0][0]"
   ]
  },
  {
   "cell_type": "code",
   "execution_count": null,
   "metadata": {
    "editable": true
   },
   "outputs": [],
   "source": [
    "# Check that table has > 0 rows\n",
    "airports_table_df.createOrReplaceTempView(\"airports_table_DF\")\n",
    "airports_table_check2 = spark.sql(\"\"\"\n",
    "    SELECT  COUNT(*)\n",
    "    FROM airports_table_DF\n",
    "\"\"\")\n",
    "airports_table_check2.show(1)\n",
    "airports_table_check2.collect()[0][0]"
   ]
  },
  {
   "cell_type": "code",
   "execution_count": null,
   "metadata": {
    "editable": true
   },
   "outputs": [],
   "source": [
    "if airports_table_check1.collect()[0][0] > 0 & airports_table_check2.collect()[0][0] < 1:\n",
    "    results['airports_count'] = airports_table_check2.collect()[0][0]\n",
    "    results['airports'] = \"NOK\"\n",
    "else:\n",
    "    results['airports_count'] = airports_table_check2.collect()[0][0]\n",
    "    results['airports'] = \"OK\"\n",
    "\n",
    "print(f\"RESULTS: {results}\")"
   ]
  },
  {
   "cell_type": "markdown",
   "metadata": {
    "editable": true
   },
   "source": [
    "#### 4.2.4 Quality checks for time table"
   ]
  },
  {
   "cell_type": "code",
   "execution_count": null,
   "metadata": {
    "editable": true
   },
   "outputs": [],
   "source": [
    "# Check that key fields have valid values (no nulls or empty)\n",
    "time_table_df.createOrReplaceTempView(\"time_table_DF\")\n",
    "time_table_check1 = spark.sql(\"\"\"\n",
    "    SELECT  COUNT(*)\n",
    "    FROM time_table_DF\n",
    "    WHERE   arrival_ts IS NULL OR arrival_ts == \"\"\n",
    "\"\"\")\n",
    "time_table_check1.show(1)\n",
    "time_table_check1.collect()[0][0]"
   ]
  },
  {
   "cell_type": "code",
   "execution_count": null,
   "metadata": {
    "editable": true
   },
   "outputs": [],
   "source": [
    "# Check that table has > 0 rows\n",
    "time_table_df.createOrReplaceTempView(\"time_table_DF\")\n",
    "time_table_check2 = spark.sql(\"\"\"\n",
    "    SELECT  COUNT(*)\n",
    "    FROM time_table_DF\n",
    "\"\"\")\n",
    "time_table_check2.show(1)\n",
    "time_table_check2.collect()[0][0]"
   ]
  },
  {
   "cell_type": "code",
   "execution_count": null,
   "metadata": {
    "editable": true
   },
   "outputs": [],
   "source": [
    "if time_table_check1.collect()[0][0] > 0 & time_table_check2.collect()[0][0] < 1:\n",
    "    results['time_count'] = time_table_check2.collect()[0][0]\n",
    "    results['time'] = \"NOK\"\n",
    "else:\n",
    "    results['time_count'] = time_table_check2.collect()[0][0]\n",
    "    results['time'] = \"OK\"\n",
    "\n",
    "print(f\"RESULTS: {results}\")"
   ]
  },
  {
   "cell_type": "markdown",
   "metadata": {
    "editable": true
   },
   "source": [
    "#### 4.2.1 Quality checks for immigrations table"
   ]
  },
  {
   "cell_type": "code",
   "execution_count": null,
   "metadata": {
    "editable": true
   },
   "outputs": [],
   "source": [
    "#immigrations_table_path = \"data/output_data/immigrations_table.parquet_2019-08-15-12-22-26-417652\"\n",
    "#print(f\"OUTPUT: {immigrations_table_path}\")\n",
    "#immigrations_table_df = spark.read.parquet(immigrations_table_path)"
   ]
  },
  {
   "cell_type": "code",
   "execution_count": null,
   "metadata": {
    "editable": true
   },
   "outputs": [],
   "source": [
    "immigrations_table_df.count()"
   ]
  },
  {
   "cell_type": "code",
   "execution_count": null,
   "metadata": {
    "editable": true
   },
   "outputs": [],
   "source": [
    "# Check that key fields have valid values (no nulls or empty)\n",
    "immigrations_table_df.createOrReplaceTempView(\"immigrations_table_DF\")\n",
    "immigrations_table_check1 = spark.sql(\"\"\"\n",
    "    SELECT  COUNT(*)\n",
    "    FROM immigrations_table_DF\n",
    "        WHERE   immigration_id IS NULL OR immigration_id == \"\" OR\n",
    "                arrival_time IS NULL OR arrival_time == \"\" OR\n",
    "                arrival_year IS NULL OR arrival_year == \"\" OR\n",
    "                arrival_month IS NULL OR arrival_month == \"\" OR\n",
    "                airport_id IS NULL OR airport_id == \"\" OR\n",
    "                country_code IS NULL OR country_code == \"\" OR\n",
    "                admission_nbr IS NULL OR admission_nbr == \"\"\n",
    "\"\"\")\n",
    "immigrations_table_check1.show(1)\n",
    "immigrations_table_check1.collect()[0][0]"
   ]
  },
  {
   "cell_type": "code",
   "execution_count": null,
   "metadata": {
    "editable": true
   },
   "outputs": [],
   "source": [
    "# Check that table has > 0 rows\n",
    "immigrations_table_df.createOrReplaceTempView(\"immigrations_table_DF\")\n",
    "immigrations_table_check2 = spark.sql(\"\"\"\n",
    "    SELECT  COUNT(*)\n",
    "    FROM immigrations_table_DF\n",
    "\"\"\")\n",
    "immigrations_table_check2.show(1)\n",
    "immigrations_table_check2.collect()[0][0]"
   ]
  },
  {
   "cell_type": "code",
   "execution_count": null,
   "metadata": {
    "editable": true
   },
   "outputs": [],
   "source": [
    "if immigrations_table_check1.collect()[0][0] > 0 & immigrations_table_check2.collect()[0][0] < 1:\n",
    "    results['immigrations_count'] = immigrations_table_check2.collect()[0][0]\n",
    "    results['immigrations'] = \"NOK\"\n",
    "else:\n",
    "    results['immigrations_count'] = immigrations_table_check2.collect()[0][0]\n",
    "    results['immigrations'] = \"OK\"\n",
    "\n",
    "print(f\"RESULTS: {results}\")"
   ]
  },
  {
   "cell_type": "markdown",
   "metadata": {
    "editable": true
   },
   "source": [
    "#### 4.3 Data dictionary \n",
    "\n",
    "\n",
    "\n",
    "\n",
    "\n",
    "\n"
   ]
  },
  {
   "cell_type": "markdown",
   "metadata": {
    "editable": true
   },
   "source": [
    "## Step 5: Complete Project Write Up\n",
    "\n",
    "* _Clearly state the rationale for the choice of tools and technologies for the project._\n",
    "* _Propose how often the data should be updated and why._\n",
    "* _Write a description of how you would approach the problem differently under the following scenarios:_\n",
    " * _The data was increased by 100x._\n",
    " * _The data populates a dashboard that must be updated on a daily basis by 7am every day._\n",
    " * _The database needed to be accessed by 100+ people._\n",
    " \n",
    "**Rationale for the tools selection:**\n",
    "* Python, Pandas and Spark were natural choises to process project's input data since it contains all necessary (and easy to use) libraries to read, clean, process, and form DB tables.\n",
    "* Since the data set was still limited, local and server storage was used in storing, reading, writing the input and output data. \n",
    "* Input data could have been stored in AWS without big problems (excluded in this project). \n",
    "* Output data could have been easily written to AWS after processing (excluded in this project). Experiences have shown that it's better to write parquet files locally first and only after that write them to cloud storage (as a bulk oparation) to avoid delays and extra costs caused by AWS S3.\n",
    "\n",
    "**How often ETL script should be run:**\n",
    "* ETL script should be run monthly basis (assuming that new I94 data is available once per month).\n",
    "\n",
    "**Other scenarions (what to consider in them):**\n",
    "* Data is 100x: \n",
    "    * Input data should be stoted in cloud storage e.g. AWS S3\n",
    "    * Clustered Spark should be used to enable parallel processing of the data.\n",
    "    * Clustered Cloud DB e.g. AWS Redshift should be used to store the data during the processing (staging and final tables).  \n",
    "    * Output data (parquet files) should be stored to Cloud storage e.g. AWS S3 for easy access or to a Cloud DB for further analysis. AWS Redshift is very expensive for storing the data, so maybe some SQL DB (e.g. AWS RDS) should be used. \n",
    "    \n",
    "* Data is used in dashboard and updated every day 07:00AM:\n",
    "    * ETl script should be refactored to process only the changed inout information instead of processing all the inout files as it does now to minimise the used time and comouting resources.\n",
    "    * Output data should be stored and updated in a Cloud DB (e.g. AWS RDS) to make it available all times for the dashboard.\n",
    "    * Possibly this \"always available\" DB (serving the dashboard) would contain a latest sub-set of all available data to make it fast perfoming and easier to manage.\n",
    "\n",
    "* DB is accessed by 100+ people:\n",
    "    * Output data should be stored in a Cloud DB (e.g. AWS RDS) to make it \"always available\" for further analysis. Tools should be provided for the end-users to access the output DB. \n",
    "    * Potentially, some new tables could be created to serve the most used queries better.\n",
    "\n",
    "**Potential further work:** \n",
    "* ETL pipeline script could be re-factored\n",
    "    * make it more modular (split functions to separate files/classes)\n",
    "    * combine functions to have fewer, more general purpose functions instead of several specific function per ETL steps \n",
    "    \n",
    "* IATA airport data could be (semi-manually) mapped to I94 airport data to add more value for the analysis and enable further data merges.\n",
    "\n",
    "* Other data e.g. daily weather data could be combined as inout data to provide insights about the weather immigrants experienced when they entered US. \n",
    "\n",
    "    "
   ]
  },
  {
   "cell_type": "code",
   "execution_count": null,
   "metadata": {
    "editable": true
   },
   "outputs": [],
   "source": []
  }
 ],
 "metadata": {
  "kernelspec": {
   "display_name": "Python 3",
   "language": "python",
   "name": "python3"
  },
  "language_info": {
   "codemirror_mode": {
    "name": "ipython",
    "version": 3
   },
   "file_extension": ".py",
   "mimetype": "text/x-python",
   "name": "python",
   "nbconvert_exporter": "python",
   "pygments_lexer": "ipython3",
   "version": "3.6.3"
  }
 },
 "nbformat": 4,
 "nbformat_minor": 4
}
